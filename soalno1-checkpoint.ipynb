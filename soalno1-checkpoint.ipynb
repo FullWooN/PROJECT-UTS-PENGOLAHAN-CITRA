{
 "cells": [
  {
   "cell_type": "code",
   "execution_count": null,
   "id": "76789ed0-23de-4cba-a34a-c591aafa0461",
   "metadata": {},
   "outputs": [],
   "source": [
    "import cv2\n",
    "import numpy as np\n",
    "import matplotlib.pyplot as plt\n",
    "import matplotlib.image as mpimg\n",
    "\n",
    "# Fungsi untuk mendeteksi warna dalam gambar\n",
    "def detect_color(image, color_lower, color_upper):\n",
    "    # Konversi gambar ke ruang warna HSV\n",
    "    hsv_image = cv2.cvtColor(image, cv2.COLOR_BGR2HSV)\n",
    "    \n",
    "    # Buat mask untuk warna tertentu\n",
    "    color_mask = cv2.inRange(hsv_image, color_lower, color_upper)\n",
    "    \n",
    "    # Gabungkan gambar asli dengan mask untuk visualisasi\n",
    "    result = cv2.bitwise_and(image, image, mask=color_mask)\n",
    "    \n",
    "    return result\n",
    "\n",
    "# Load gambar\n",
    "image = cv2.imread('coba.jpg')\n",
    "\n",
    "# Tentukan rentang warna untuk deteksi\n",
    "lower_red = np.array([0, 100, 100])\n",
    "upper_red = np.array([10, 255, 255])\n",
    "\n",
    "lower_green = np.array([50, 100, 100])\n",
    "upper_green = np.array([70, 255, 255])\n",
    "\n",
    "lower_blue = np.array([100, 100, 100])\n",
    "upper_blue = np.array([130, 255, 255])\n",
    "\n",
    "# Deteksi warna merah, hijau, dan biru dalam gambar\n",
    "red_detection = detect_color(image, lower_red, upper_red)\n",
    "green_detection = detect_color(image, lower_green, upper_green)\n",
    "blue_detection = detect_color(image, lower_blue, upper_blue)\n",
    "\n",
    "# Tampilkan gambar asli dan hasil deteksi warna\n",
    "cv2.imshow('Original Image', image)\n",
    "cv2.imshow('Red Detection', red_detection)\n",
    "cv2.imshow('Green Detection', green_detection)\n",
    "cv2.imshow('Blue Detection', blue_detection)\n"
   ]
  },
  {
   "cell_type": "code",
   "execution_count": 1,
   "id": "ac467c90-3a8d-409c-9112-39ae74836ee3",
   "metadata": {},
   "outputs": [
    {
     "ename": "NameError",
     "evalue": "name 'mpimg' is not defined",
     "output_type": "error",
     "traceback": [
      "\u001b[1;31m---------------------------------------------------------------------------\u001b[0m",
      "\u001b[1;31mNameError\u001b[0m                                 Traceback (most recent call last)",
      "Cell \u001b[1;32mIn[1], line 2\u001b[0m\n\u001b[0;32m      1\u001b[0m \u001b[38;5;66;03m# Reading original image, in full color\u001b[39;00m\n\u001b[1;32m----> 2\u001b[0m img \u001b[38;5;241m=\u001b[39m \u001b[43mmpimg\u001b[49m\u001b[38;5;241m.\u001b[39mimread(\u001b[38;5;124m'\u001b[39m\u001b[38;5;124mcoba.jpg\u001b[39m\u001b[38;5;124m'\u001b[39m)\n\u001b[0;32m      4\u001b[0m \u001b[38;5;66;03m# Displaying the image\u001b[39;00m\n\u001b[0;32m      5\u001b[0m imgplot \u001b[38;5;241m=\u001b[39m plt\u001b[38;5;241m.\u001b[39mimshow(img)\n",
      "\u001b[1;31mNameError\u001b[0m: name 'mpimg' is not defined"
     ]
    }
   ],
   "source": [
    "# Reading original image, in full color\n",
    "img = mpimg.imread('coba.jpg')\n",
    "\n",
    "# Displaying the image\n",
    "imgplot = plt.imshow(img)\n",
    "plt.show()\n",
    "\n",
    "# Creating a tuple to select colors of each channel line\n",
    "colors = (\"r\", \"g\", \"b\")\n",
    "channel_ids = (0, 1, 2)\n",
    "\n",
    "# Making an histogram with three lines, one for each color\n",
    "# The X limit is 255, for RGB values\n",
    "plt.xlim([0,256])\n",
    "for channel_id, c in zip(channel_ids, colors):\n",
    "  histogram, bin_edges = np.histogram(\n",
    "      img[:, :, channel_id], bins = 256, range=(0,256)\n",
    "  )\n",
    "  plt.plot(bin_edges[0:-1], histogram, color=c )\n",
    "\n",
    "# Displaying the histogram\n",
    "plt.xlabel(\"Color Value\")\n",
    "plt.ylabel(\"Pixels\")\n",
    "\n",
    "plt.show()\n"
   ]
  },
  {
   "cell_type": "code",
   "execution_count": null,
   "id": "8f985a73-dc56-4ef1-8df1-58224153b486",
   "metadata": {},
   "outputs": [],
   "source": []
  }
 ],
 "metadata": {
  "kernelspec": {
   "display_name": "Python 3 (ipykernel)",
   "language": "python",
   "name": "python3"
  },
  "language_info": {
   "codemirror_mode": {
    "name": "ipython",
    "version": 3
   },
   "file_extension": ".py",
   "mimetype": "text/x-python",
   "name": "python",
   "nbconvert_exporter": "python",
   "pygments_lexer": "ipython3",
   "version": "3.11.9"
  }
 },
 "nbformat": 4,
 "nbformat_minor": 5
}
